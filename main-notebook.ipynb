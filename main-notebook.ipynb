{
 "cells": [
  {
   "cell_type": "markdown",
   "metadata": {},
   "source": [
    "## Inicializacion"
   ]
  },
  {
   "cell_type": "markdown",
   "metadata": {},
   "source": [
    "### Importado de librerias"
   ]
  },
  {
   "cell_type": "code",
   "execution_count": null,
   "metadata": {},
   "outputs": [],
   "source": [
    "import numpy as np\n",
    "import pandas as pd\n",
    "import matplotlib.pyplot as plt"
   ]
  },
  {
   "cell_type": "markdown",
   "metadata": {},
   "source": [
    "### Carga de datos"
   ]
  },
  {
   "cell_type": "code",
   "execution_count": null,
   "metadata": {},
   "outputs": [],
   "source": [
    "# Cargar los datos desde los archivos\n",
    "df_estudiantes = pd.read_csv(\"./archivos-bd/BaseAprenderEstudiantes6Primaria2022-MuestralLyM.csv\", sep=';')\n",
    "df_referencias = pd.read_excel(\"./archivos-bd/EstudiantesAPRENDER2022PrimariaMuestral-DiccionarioDeVariables.xlsx\", sheet_name=\"etiquetas de variables\", header=1)\n",
    "df_valores_variables = pd.read_excel(\"./archivos-bd/EstudiantesAPRENDER2022PrimariaMuestral-DiccionarioDeVariables.xlsx\", sheet_name=\"valores de variables\", header=1)"
   ]
  },
  {
   "cell_type": "markdown",
   "metadata": {},
   "source": [
    "### Análisis Exploratorio de Datos"
   ]
  },
  {
   "cell_type": "code",
   "execution_count": null,
   "metadata": {},
   "outputs": [],
   "source": [
    "print(df_estudiantes.shape)\n",
    "print(df_referencias.shape)\n",
    "print(df_valores_variables.shape)"
   ]
  },
  {
   "cell_type": "code",
   "execution_count": null,
   "metadata": {},
   "outputs": [],
   "source": [
    "df_estudiantes.head()"
   ]
  },
  {
   "cell_type": "code",
   "execution_count": null,
   "metadata": {},
   "outputs": [],
   "source": [
    "df_referencias.head()"
   ]
  },
  {
   "cell_type": "code",
   "execution_count": null,
   "metadata": {},
   "outputs": [],
   "source": [
    "df_valores_variables.head(28)"
   ]
  },
  {
   "cell_type": "code",
   "execution_count": null,
   "metadata": {},
   "outputs": [],
   "source": [
    "# Transformar el dataframe de referencias a una Serie para poder buscar por el nombre de la variable más facil\n",
    "df_referencias = df_referencias.set_index(df_referencias.columns[0]).squeeze()"
   ]
  },
  {
   "cell_type": "code",
   "execution_count": null,
   "metadata": {},
   "outputs": [],
   "source": [
    "# Reformatear dataframe estudiantes\n",
    "\n",
    "# Eliminar columnas que no son necesarias en el trabajo practico\n",
    "columnas_a_eliminar = [ \"idalumno\", \"sector\", \"ap02\", \"ap03\", \"ap04\", \"ap05\", \"ap06\", \"ap07\", \"ap08\",\n",
    "                        \"ap09\", \"ap10a\", \"ap10b\", \"ap10c\", \"ap10d\", \"ap10e\", \"ap10f\", \"ap10g\", \"ap10h\",\n",
    "                        \"ap10i\", \"ap10j\", \"ap11\", \"ap12a\", \"ap12b\", \"ap12c\", \"ap12e\", \"ap12f\",\n",
    "                        \"ap12g\", \"ap12h\", \"ap12i\", \"ap12j\", \"ap12k\", \"ap12l\", \"ap13\", \"ap14\", \"ap15\",\n",
    "                        \"ap16\", \"ap17a\", \"ap17b\", \"ap17c\", \"ap17d\", \"ap17e\", \"ap18a\", \"ap18b\", \"ap18c\",\n",
    "                        \"ap18d\", \"ap18e\", \"ap19a\", \"ap19b\", \"ap19c\", \"ap19d\", \"ap19e\", \"ap20a\", \"ap20b\",\n",
    "                        \"ap21a\", \"ap21b\", \"ap21c\", \"ap21d\", \"ap21e\", \"ap21f\", \"ap22\", \"ap23\", \"ap24\",\n",
    "                        \"ap25a\", \"ap25b\", \"ap25c\", \"ap25d\", \"ap25e\", \"ap25f\", \"ap25g\", \"ap25h\", \"ap25i\",\n",
    "                        \"ap25j\", \"ap26a\", \"ap26b\", \"ap26c\", \"ap26d\", \"ap26e\", \"ap26f\", \"ap26g\", \"ap26h\", \n",
    "                        \"ap26i\", \"ap26j\", \"ap27\", \"ap28a\", \"ap28b\", \"ap28c\", \"ap28d\", \"ap29\", \"ap30\",\n",
    "                        \"ap31\", \"ap32a\", \"ap32b\", \"ap33a\", \"ap33b\", \"ap34\", \"ap35\", \"edadA_junio2022\", \"sobreedad\",\n",
    "                        \"migracion\", \"Nivel_Ed_Madre\", \"Nivel_Ed_Padre\", \"Nivel_Ed_Persona_Resp\"]\n",
    "\n",
    "df_estudiantes = df_estudiantes.drop(labels=columnas_a_eliminar, axis=1)\n",
    "df_referencias = df_referencias.drop(columnas_a_eliminar)"
   ]
  },
  {
   "cell_type": "code",
   "execution_count": null,
   "metadata": {},
   "outputs": [],
   "source": [
    "df_estudiantes.head(10)"
   ]
  },
  {
   "cell_type": "code",
   "execution_count": null,
   "metadata": {},
   "outputs": [],
   "source": [
    "# Reformatear dataframe valores variables\n",
    "\n",
    "# Rellenar las columnas que tienen valores NaN por la variable correspondiente\n",
    "for index, _ in enumerate(df_valores_variables[\"Variable\"]):\n",
    "    if index != 0:\n",
    "        # Si estoy en un valor NaN y el anterior tiene un valor significa que debe tener el mismo valor que el anterior\n",
    "        if pd.isnull(df_valores_variables[\"Variable\"][index]) and not pd.isnull(df_valores_variables[\"Variable\"][index-1]):\n",
    "            df_valores_variables[\"Variable\"][index] = df_valores_variables[\"Variable\"][index-1]\n",
    "\n",
    "df_valores_variables.head(30)"
   ]
  },
  {
   "cell_type": "code",
   "execution_count": null,
   "metadata": {},
   "outputs": [],
   "source": [
    "# Recorremos las columnas para saber si hay elementos nulos en las columnas del dataframe\n",
    "print(df_estudiantes.isnull().sum()) # Trunca el resultado\n",
    "\n",
    "# Según este análisis ninguna columna tienen valores nulos pero analizando un poco mas a fondo observamos\n",
    "# que hay columnas que tienen como valor un string vacio o un espacio \" \" por lo que se debe considerar\n",
    "# como se tratarán estos caso\n",
    "print(df_estudiantes[\"ap01\"].unique())\n",
    "\n",
    "#! Se debe tener especial cuidado porque en la misma columna hay variables del tipo int y string\n",
    "#! que representan lo mismo"
   ]
  },
  {
   "cell_type": "code",
   "execution_count": null,
   "metadata": {},
   "outputs": [],
   "source": [
    "# Definir una funcion para saber que indices nos sirven y que valor de refencia tienen\n",
    "def buscar_referencias(nombre_referencia):\n",
    "    return df_referencias[df_referencias.str.contains(nombre_referencia)]\n"
   ]
  },
  {
   "cell_type": "markdown",
   "metadata": {},
   "source": [
    "## Practica para todas las muestras"
   ]
  },
  {
   "cell_type": "markdown",
   "metadata": {},
   "source": [
    "### 1 - Graficar, en un mismo plano, la proporción de muestras con y sin acceso a internet."
   ]
  },
  {
   "cell_type": "code",
   "execution_count": null,
   "metadata": {},
   "outputs": [],
   "source": [
    "# Para saber que variables hacen refencia a \"Internet\" utilizamos la función buscar_referencias\n",
    "referencias_a_internet = buscar_referencias(\"Internet\")\n",
    "\n",
    "print(referencias_a_internet)\n",
    "\n",
    "print(referencias_a_internet.values[0])\n",
    "print(referencias_a_internet.index[0])\n",
    "\n",
    "# Por lo que determinamos que la variable que analizaremos será \"ap12d\": \"¿Disponés de los siguientes objetos o servicios en el lugar donde vivís? [Conexión a Internet]\"\"\n",
    "print(df_estudiantes[\"ap12d\"].unique())"
   ]
  },
  {
   "cell_type": "markdown",
   "metadata": {},
   "source": [
    "#### Conversion y limpieza de datos\n",
    "\n",
    "Mediante la observación manual de los datos, nos dimos cuenta de que el dataset no tiene de por sí variables categóricas porque todas estan mapeadas a valores enteros, sin embargo, como se verá más adelante, hay columnas del dataframe que contiene espacios y que tienen numeros y strings que representan lo mismo"
   ]
  },
  {
   "cell_type": "code",
   "execution_count": null,
   "metadata": {},
   "outputs": [],
   "source": [
    "def normalizar_categoricas(param):\n",
    "    if isinstance(param, str):\n",
    "        if param.isspace() or param == \"\":\n",
    "            return int(param.replace(\" \", \"-9\"))\n",
    "        else:\n",
    "            return int(param)\n",
    "    else:\n",
    "        return param\n",
    "\n",
    "df_estudiantes[\"ap12d\"] = df_estudiantes[\"ap12d\"].map(normalizar_categoricas)\n",
    "\n",
    "df_estudiantes[\"ap12d\"].unique()"
   ]
  },
  {
   "cell_type": "code",
   "execution_count": null,
   "metadata": {},
   "outputs": [],
   "source": [
    "fig, ax = plt.subplots(figsize=(6,6))\n",
    "\n",
    "etiquetas = {\n",
    "    1: 'Sí',\n",
    "    2: 'No'\n",
    "}\n",
    "\n",
    "conteo_valores = df_estudiantes['ap12d'].value_counts()\n",
    "conteo_valores = conteo_valores.drop(conteo_valores.index[[1, 3, 4]])\n",
    "\n",
    "print(conteo_valores)\n",
    "\n",
    "# Obtener los valores y etiquetas\n",
    "valores = conteo_valores.values\n",
    "etiquetas_pie = [etiquetas[valor] for valor in conteo_valores.index]\n",
    "\n",
    "# Crear el gráfico de pie\n",
    "plt.title(\n",
    "    'Proporción de estudiantes con acceso a internet',\n",
    "    fontdict={\"fontsize\": 16})\n",
    "handles = plt.pie(\n",
    "    valores, \n",
    "    labels=etiquetas_pie, \n",
    "    autopct='%1.1f%%', \n",
    "    startangle=90,\n",
    "    textprops={\"fontsize\": 13})\n",
    "fig.set_facecolor('white')\n",
    "\n",
    "plt.show()\n"
   ]
  },
  {
   "cell_type": "markdown",
   "metadata": {},
   "source": [
    "### 2 - Informar el porcentaje de estudiantes mayores de 13 años."
   ]
  },
  {
   "cell_type": "code",
   "execution_count": null,
   "metadata": {},
   "outputs": [],
   "source": [
    "referencias_a_años = buscar_referencias(\"años\")\n",
    "\n",
    "print(referencias_a_años)\n",
    "\n",
    "# Por lo que determinamos que la variable que analizaremos será \"ap01\": \"¿Cuántos años tenés?\"\n",
    "print(df_referencias[\"ap01\"])\n",
    "\n",
    "print(df_estudiantes[\"ap01\"].unique())"
   ]
  },
  {
   "cell_type": "code",
   "execution_count": null,
   "metadata": {},
   "outputs": [],
   "source": [
    "df_estudiantes[\"ap01\"] = df_estudiantes[\"ap01\"].map(normalizar_categoricas)\n",
    "\n",
    "df_estudiantes[\"ap01\"].unique()"
   ]
  },
  {
   "cell_type": "code",
   "execution_count": null,
   "metadata": {},
   "outputs": [],
   "source": [
    "fig, ax = plt.subplots(figsize=(6,6))\n",
    "\n",
    "etiquetas = {\n",
    "    'menor13': 'Alumnos menores de 13 años',\n",
    "    'mayor13': 'Alumnos de 13 o más años'\n",
    "}\n",
    "\n",
    "conteo_valores = df_estudiantes[\"ap01\"].value_counts().sort_index()\n",
    "\n",
    "# Obtener los valores y etiquetas\n",
    "valores = pd.Series([conteo_valores.iloc[0:6].sum(), conteo_valores.iloc[6:].sum()], index=[\"menor13\", \"mayor13\"])\n",
    "print(valores)\n",
    "etiquetas_pie = [etiquetas[valor] for valor in valores.index]\n",
    "\n",
    "plt.title(\n",
    "    'Porcentaje de estudiantes mayores de 13 años',\n",
    "    fontdict={\"fontsize\": 16})\n",
    "\n",
    "# Crear el gráfico de pie\n",
    "handles = plt.pie(\n",
    "    valores, \n",
    "    labels=etiquetas_pie, \n",
    "    autopct='%1.1f%%',\n",
    "    startangle=90,\n",
    "    textprops={\"fontsize\": 13})\n",
    "fig.set_facecolor('white')\n",
    "\n",
    "plt.show()"
   ]
  },
  {
   "cell_type": "markdown",
   "metadata": {},
   "source": [
    "### 3 -  Graficar, en un mismo plano, las proporciónes de muestras de las 10 jurisdicciones con mayor cantidad de estudiantes."
   ]
  },
  {
   "cell_type": "code",
   "execution_count": null,
   "metadata": {},
   "outputs": [],
   "source": [
    "print(df_referencias[\"jurisdiccion\"])\n",
    "\n",
    "print(df_estudiantes[\"jurisdiccion\"].unique())\n",
    "\n",
    "# Agrupar con jurisdiccion y sumar para ver si se consideran todos los valores, la suma debe dar igual a 128482\n",
    "df_estudiantes[\"jurisdiccion\"].value_counts().values.sum()"
   ]
  },
  {
   "cell_type": "code",
   "execution_count": null,
   "metadata": {},
   "outputs": [],
   "source": [
    "# Armar una Serie que contenga el valor de la provincia como key y el nombre como value\n",
    "df_jurisdiccion = df_valores_variables[df_valores_variables[\"Variable\"] == \"jurisdiccion\"]\n",
    "df_jurisdiccion_sin_columna_variable = df_jurisdiccion.drop(\"Variable\", axis=1)\n",
    "valores_etiqueta = df_jurisdiccion_sin_columna_variable.set_index(df_jurisdiccion_sin_columna_variable.columns[0]).squeeze()\n",
    "\n",
    "# Acortar nombre CABA\n",
    "valores_etiqueta[2] = \"CABA\"\n",
    "\n",
    "valores_etiqueta.values"
   ]
  },
  {
   "cell_type": "code",
   "execution_count": null,
   "metadata": {},
   "outputs": [],
   "source": [
    "# Reemplazar los valores por su correspondiente provincia\n",
    "cantidad_estudiantes_por_jurisdiccion = df_estudiantes[\"jurisdiccion\"].value_counts()\n",
    "\n",
    "cantidad_estudiantes_por_jurisdiccion.index = cantidad_estudiantes_por_jurisdiccion.index.map(valores_etiqueta)\n",
    "\n",
    "# Tomar las 10 jurisdicciones con mayor poblacion\n",
    "cantidad_estudiantes_por_jurisdiccion = cantidad_estudiantes_por_jurisdiccion.iloc[:10]\n",
    "\n",
    "cantidad_estudiantes_por_jurisdiccion\n"
   ]
  },
  {
   "cell_type": "code",
   "execution_count": null,
   "metadata": {},
   "outputs": [],
   "source": [
    "# Crear un gráfico de barras horizontales\n",
    "plt.barh(cantidad_estudiantes_por_jurisdiccion.index, cantidad_estudiantes_por_jurisdiccion.values)\n",
    "\n",
    "# Etiquetas y título\n",
    "plt.xlabel('Cantidad de Estudiantes')\n",
    "plt.ylabel('Jurisdicción')\n",
    "plt.title('Cantidad de Estudiantes por Jurisdicción')\n",
    "\n",
    "# Mostrar el gráfico\n",
    "plt.show()"
   ]
  },
  {
   "cell_type": "markdown",
   "metadata": {},
   "source": [
    "### 4 - Graficar, en un mismo plano, la proporción de muestras con residencia rural y urbana."
   ]
  },
  {
   "cell_type": "code",
   "execution_count": null,
   "metadata": {},
   "outputs": [],
   "source": [
    "# Encontrar que variable hacia referencia a si el ámbito era rural o urbano fue más dificil porque no había una relación directa\n",
    "# en el dataframe de referencia por lo que su obtención se hizo mediante la observación manual\n",
    "\n",
    "print(df_valores_variables[df_valores_variables[\"Variable\"] == \"ambito\"])\n",
    "print(df_estudiantes[\"ambito\"].unique())"
   ]
  },
  {
   "cell_type": "code",
   "execution_count": null,
   "metadata": {},
   "outputs": [],
   "source": [
    "fig, ax = plt.subplots(figsize=(6,6))\n",
    "\n",
    "etiquetas = {\n",
    "    1: \"Rural\",\n",
    "    2: \"Urbano\"\n",
    "}\n",
    "\n",
    "plt.title('Proporción de estudiantes con residencia rural y urbana',\n",
    "    fontdict={\"fontsize\": 16})\n",
    "\n",
    "conteo_valores = df_estudiantes['ambito'].value_counts()\n",
    "\n",
    "# Obtener los valores y etiquetas\n",
    "valores = conteo_valores.values\n",
    "etiquetas_pie = [etiquetas[valor] for valor in conteo_valores.index]\n",
    "\n",
    "# Crear el gráfico de pie\n",
    "handles = plt.pie(valores, \n",
    "                  labels=etiquetas_pie, \n",
    "                  autopct='%1.1f%%',\n",
    "                  startangle=90,\n",
    "                  textprops={\"fontsize\": 13})\n",
    "fig.set_facecolor('white')\n",
    "\n",
    "# plt.legend(zip(etiquetas.values(), valores), title=\"Etiquetas y valores\", loc=\"upper right\")\n",
    "\n",
    "plt.show()"
   ]
  },
  {
   "cell_type": "markdown",
   "metadata": {},
   "source": [
    "## Para las muestras correspondientes a la provincia de Santa Fe:"
   ]
  },
  {
   "cell_type": "markdown",
   "metadata": {},
   "source": [
    "### 6 - Informar el promedio de los puntajes en matemática y lengua."
   ]
  },
  {
   "cell_type": "code",
   "execution_count": null,
   "metadata": {},
   "outputs": [],
   "source": [
    "# Se define el dataframe para solamente quedarnos con los estudiantes que sean de la provincia de santa fe\n",
    "df_estudiantes_santafesinos = df_estudiantes[df_estudiantes[\"jurisdiccion\"] == 82]\n",
    "df_estudiantes_santafesinos"
   ]
  },
  {
   "cell_type": "markdown",
   "metadata": {},
   "source": [
    "### 7 - Graficar el desempeño en matemática y lengua en dos categorias: una para el nivel POR DEBAJO DEL BÁSICO, otra para los niveles BÁSICO, SATISFACTORIO y AVANZADO."
   ]
  },
  {
   "cell_type": "code",
   "execution_count": 33,
   "metadata": {},
   "outputs": [
    {
     "data": {
      "image/png": "[encoded data removed]",
      "text/plain": [
       "<Figure size 1200x400 with 2 Axes>"
      ]
     },
     "metadata": {},
     "output_type": "display_data"
    }
   ],
   "source": [
    "fig, (ax1, ax2) = plt.subplots(1,2, figsize=(12,4))\n",
    "# ---------------------------------- Categoría 1 ----------------------------------\n",
    "# Desempeños en lengua POR DEBAJO DEL BÁSICO\n",
    "filtro_pordebajo_leng = (df_estudiantes_santafesinos['ldesemp'] == \"1\")\n",
    "lengua_pordebajo = df_estudiantes_santafesinos[filtro_pordebajo_leng]\n",
    "\n",
    "# Desempeños en matematica POR DEBAJO DEL BÁSICO\n",
    "filtro_pordebajo_mat = (df_estudiantes_santafesinos['mdesemp'] == \"1\")\n",
    "matematica_pordebajo = df_estudiantes_santafesinos[filtro_pordebajo_mat]\n",
    "\n",
    "# Cantidad de estudiantes con desempeño POR DEBAJO DEL BÁSICO\n",
    "cant_pordebajo_leng = len(lengua_pordebajo)\n",
    "cant_pordebajo_mat = len(matematica_pordebajo)\n",
    "\n",
    " # Gráfico de barras\n",
    "categorias = ['Lengua', 'Matemática']\n",
    "cantidad_estudiantes_pordebajo = [cant_pordebajo_leng, cant_pordebajo_mat] \n",
    "colores = ['red', 'green']\n",
    "ax1.bar(categorias, cantidad_estudiantes_pordebajo, color=colores)\n",
    "ax1.set_xlabel('Asignatura')\n",
    "ax1.set_ylabel('Cantidad de estudiantes')\n",
    "ax1.text(0.5, 1.05, 'Comparación de desempeños por debajo del básico', fontsize=12, ha='center', transform=ax1.transAxes)\n",
    "\n",
    "# ---------------------------------- Categoría 2 ----------------------------------\n",
    "# Desempeños en lengua BÁSICO\n",
    "filtro_basico_leng = (df_estudiantes_santafesinos['ldesemp'] == \"2\")\n",
    "lengua_basico = df_estudiantes_santafesinos[filtro_basico_leng]\n",
    "\n",
    "# Desempeños en matematica BÁSICO\n",
    "filtro_basico_mat = (df_estudiantes_santafesinos['mdesemp'] == \"2\")\n",
    "matematica_basico = df_estudiantes_santafesinos[filtro_basico_mat]\n",
    "\n",
    "# Desempeños en lengua SATISFACTORIO\n",
    "filtro_satisf_leng = (df_estudiantes_santafesinos['ldesemp'] == \"3\")\n",
    "lengua_satisf = df_estudiantes_santafesinos[filtro_satisf_leng]\n",
    "\n",
    "# Desempeños en matematica SATISFACTORIO\n",
    "filtro_satisf_mat = (df_estudiantes_santafesinos['mdesemp'] == \"3\")\n",
    "matematica_satisf = df_estudiantes_santafesinos[filtro_satisf_mat]\n",
    "\n",
    "# Desempeños en lengua AVANZADO\n",
    "filtro_avanzado_leng = (df_estudiantes_santafesinos['ldesemp'] == \"4\")\n",
    "lengua_avanzado = df_estudiantes_santafesinos[filtro_avanzado_leng]\n",
    "\n",
    "# Desempeños en matematica AVANZADO\n",
    "filtro_avanzado_mat = (df_estudiantes_santafesinos['mdesemp'] == \"4\")\n",
    "matematica_avanzado = df_estudiantes_santafesinos[filtro_avanzado_mat]\n",
    "\n",
    "# Cantidad de estudiantes\n",
    "cant_basico_leng = len(lengua_basico)\n",
    "cant_basico_mat = len(matematica_basico)\n",
    "cant_satisf_leng = len(lengua_satisf)\n",
    "cant_satisf_mat = len(matematica_satisf)\n",
    "cant_avanzado_leng = len(lengua_avanzado)\n",
    "cant_avanzado_mat = len(matematica_avanzado)\n",
    "\n",
    "# Gráfico\n",
    "categorias2 = ['Básico', 'Satisfactorio', 'Avanzado']\n",
    "cant_estudiantes_lengua = [cant_basico_leng, cant_satisf_leng, cant_avanzado_leng]\n",
    "cant_estudiantes_matematica = [cant_basico_mat, cant_satisf_mat, cant_avanzado_mat]\n",
    "bar_width = 0.3\n",
    "bar_positions = range(len(categorias2))\n",
    "ax2.bar([pos - bar_width/2 for pos in bar_positions], cant_estudiantes_lengua, bar_width, label='Lengua', color = 'red')\n",
    "ax2.bar([pos + bar_width/2 for pos in bar_positions], cant_estudiantes_matematica, bar_width, label='Matemática', color='green')\n",
    "ax2.set_xlabel('Desempeño')\n",
    "ax2.set_ylabel('Cantidad de Estudiantes')\n",
    "ax2.set_xticks(bar_positions, categorias2)\n",
    "ax2.text(0.5, 1.05, 'Comparación de distintos desempeños en Lengua y Matemáticas', fontsize=12, ha='center', transform=ax2.transAxes)\n",
    "plt.legend()\n",
    "\n",
    "# ----- Mostrar -----\n",
    "plt.show()"
   ]
  },
  {
   "cell_type": "markdown",
   "metadata": {},
   "source": [
    "### 8 - Generar un archivo JSON"
   ]
  },
  {
   "cell_type": "code",
   "execution_count": 42,
   "metadata": {},
   "outputs": [],
   "source": [
    "import json\n",
    "\n",
    "# Extracción de Columnas\n",
    "informacion_json = df_estudiantes_santafesinos[['mdesemp', 'ldesemp', 'ambito', 'ap01']]\n",
    "\n",
    "# Quitar filas con datos vacios\n",
    "informacion_json = informacion_json[informacion_json['mdesemp'] != ' ']\n",
    "informacion_json = informacion_json[informacion_json['ldesemp'] != ' ']\n",
    "informacion_json = informacion_json[informacion_json['ap01'] != ' ']\n",
    "\n",
    "# Filtrar edad\n",
    "# VER - En el enunciado la columna se llama mayor12, pero pide poner como True a los que tengan más de 10 años \n",
    "informacion_json['ap01'] = informacion_json['ap01'].astype(int)\n",
    "informacion_json['ap01'] = np.where(informacion_json['ap01'] >=2, True, False)\n",
    "\n",
    "# Filtrar desempeño - Lengua\n",
    "# VER - Qué hacer con valores en blanco\n",
    "informacion_json.loc[informacion_json.ldesemp == \"1\", ['ldesemp']] = \"BAJO\"\n",
    "informacion_json.loc[informacion_json.ldesemp == \"2\", ['ldesemp']] = \"BASICO\"\n",
    "informacion_json.loc[informacion_json.ldesemp == \"3\", ['ldesemp']] = \"SATISFACTORIO\"\n",
    "informacion_json.loc[informacion_json.ldesemp == \"4\", ['ldesemp']] = \"AVANZADO\"\n",
    "\n",
    "# Filtrar desempeño - Matemática\n",
    "# VER - Qué hacer con valores en blanco\n",
    "informacion_json.loc[informacion_json.mdesemp == \"1\", ['mdesemp']] = \"BAJO\"\n",
    "informacion_json.loc[informacion_json.mdesemp == \"2\", ['mdesemp']] = \"BASICO\"\n",
    "informacion_json.loc[informacion_json.mdesemp == \"3\", ['mdesemp']] = \"SATISFACTORIO\"\n",
    "informacion_json.loc[informacion_json.mdesemp == \"4\", ['mdesemp']] = \"AVANZADO\"\n",
    "\n",
    "# Filtrar ámbito\n",
    "informacion_json['ambito'] = np.where(informacion_json['ambito'] == 1, True, False)\n",
    "\n",
    "# Agregar indice\n",
    "informacion_json.insert(0, 'indice', range(len(informacion_json)))\n",
    "\n",
    "# Modificar nombres de las columnas\n",
    "informacion_json = informacion_json.rename(columns={'mdesemp':'dmat', 'ldesemp':'dlen', 'ambito':'arural', 'ap01':'mayor10'})\n",
    "informacion_json\n",
    "\n",
    "# Generar archivo .JSON\n",
    "data_list = informacion_json.to_dict(orient=\"records\")\n",
    "with open(\"data.json\", \"w\") as f:\n",
    "    json.dump(data_list, f, indent=4)"
   ]
  }
 ],
 "metadata": {
  "kernelspec": {
   "display_name": "Python 3",
   "language": "python",
   "name": "python3"
  },
  "language_info": {
   "codemirror_mode": {
    "name": "ipython",
    "version": 3
   },
   "file_extension": ".py",
   "mimetype": "text/x-python",
   "name": "python",
   "nbconvert_exporter": "python",
   "pygments_lexer": "ipython3",
   "version": "3.9.4"
  },
  "orig_nbformat": 4
 },
 "nbformat": 4,
 "nbformat_minor": 2
}
