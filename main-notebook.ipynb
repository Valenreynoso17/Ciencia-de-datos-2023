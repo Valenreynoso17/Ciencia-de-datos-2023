{
 "cells": [
  {
   "cell_type": "code",
   "execution_count": null,
   "metadata": {},
   "outputs": [],
   "source": [
    "import numpy as np\n",
    "import pandas as pd\n",
    "import matplotlib.pyplot as plt"
   ]
  },
  {
   "cell_type": "code",
   "execution_count": null,
   "metadata": {},
   "outputs": [],
   "source": [
    "# Cargar los datos desde los archivos\n",
    "df_estudiantes = pd.read_csv(\"./archivos-bd/BaseAprenderEstudiantes6Primaria2022-MuestralLyM.csv\", sep=';')\n",
    "df_referencias = pd.read_excel(\"./archivos-bd/EstudiantesAPRENDER2022PrimariaMuestral-DiccionarioDeVariables.xlsx\", sheet_name=\"etiquetas de variables\", header=1)\n",
    "df_valores_variables = pd.read_excel(\"./archivos-bd/EstudiantesAPRENDER2022PrimariaMuestral-DiccionarioDeVariables.xlsx\", sheet_name=\"valores de variables\", header=1)"
   ]
  },
  {
   "cell_type": "markdown",
   "metadata": {},
   "source": [
    "### Análisis Exploratorio de Datos"
   ]
  },
  {
   "cell_type": "code",
   "execution_count": null,
   "metadata": {},
   "outputs": [],
   "source": [
    "print(df_estudiantes.shape)\n",
    "print(df_referencias.shape)\n",
    "print(df_valores_variables.shape)"
   ]
  },
  {
   "cell_type": "code",
   "execution_count": null,
   "metadata": {},
   "outputs": [],
   "source": [
    "df_estudiantes.head()"
   ]
  },
  {
   "cell_type": "code",
   "execution_count": null,
   "metadata": {},
   "outputs": [],
   "source": [
    "df_referencias.head()"
   ]
  },
  {
   "cell_type": "code",
   "execution_count": null,
   "metadata": {},
   "outputs": [],
   "source": [
    "df_valores_variables.head(28)"
   ]
  },
  {
   "cell_type": "code",
   "execution_count": null,
   "metadata": {},
   "outputs": [],
   "source": [
    "# Transformar el dataframe de referencias a una Serie para poder buscar por el nombre de la variable más facil\n",
    "df_referencias = df_referencias.set_index(df_referencias.columns[0]).squeeze()"
   ]
  },
  {
   "cell_type": "code",
   "execution_count": null,
   "metadata": {},
   "outputs": [],
   "source": [
    "# Rellenar las columnas que tienen valores NaN por la variable correspondiente\n",
    "for index, _ in enumerate(df_valores_variables[\"Variable\"]):\n",
    "    if index != 0:\n",
    "        # Si estoy en un valor NaN y el anterior tiene un valor significa que debe tener el mismo valor que el anterior\n",
    "        if pd.isnull(df_valores_variables[\"Variable\"][index]) and not pd.isnull(df_valores_variables[\"Variable\"][index-1]):\n",
    "            df_valores_variables[\"Variable\"][index] = df_valores_variables[\"Variable\"][index-1]\n",
    "\n",
    "df_valores_variables.head(30)"
   ]
  },
  {
   "cell_type": "code",
   "execution_count": null,
   "metadata": {},
   "outputs": [],
   "source": [
    "# Recorremos las columnas para saber si hay elementos nulos en las columnas del dataframe\n",
    "print(df_estudiantes.isnull().sum()) # Trunca el resultado\n",
    "\n",
    "# Según este análisis ninguna columna tienen valores nulos pero analizando un poco mas a fondo observamos\n",
    "# que hay columnas que tienen como valor un string vacio o un espacio \" \" por lo que se debe considerar\n",
    "# como se tratarán estos caso\n",
    "print(df_estudiantes[\"ap04\"].unique())\n",
    "\n",
    "#! Se debe tener especial cuidado porque en la misma columna hay variables del tipo int y string\n",
    "#! que representan lo mismo"
   ]
  },
  {
   "cell_type": "code",
   "execution_count": null,
   "metadata": {},
   "outputs": [],
   "source": [
    "# Definir una funcion para saber que indices nos sirven y que valor de refencia tienen\n",
    "def buscar_referencias(nombre_referencia):\n",
    "    return df_referencias[df_referencias.str.contains(nombre_referencia)]\n"
   ]
  },
  {
   "cell_type": "markdown",
   "metadata": {},
   "source": [
    "## Practica para todas las muestras"
   ]
  },
  {
   "cell_type": "markdown",
   "metadata": {},
   "source": [
    "### 1 - Graficar, en un mismo plano, la proporción de muestras con y sin acceso a internet."
   ]
  },
  {
   "cell_type": "code",
   "execution_count": null,
   "metadata": {},
   "outputs": [],
   "source": [
    "# Para saber que variables hacen refencia a \"Internet\" utilizamos la función buscar_referencias\n",
    "referencias_a_internet = buscar_referencias(\"Internet\")\n",
    "\n",
    "print(referencias_a_internet)\n",
    "\n",
    "print(referencias_a_internet.values[0])\n",
    "print(referencias_a_internet.index[0])\n",
    "\n",
    "# Por lo que determinamos que la variable que analizaremos será \"ap12d\": \"¿Disponés de los siguientes objetos o servicios en el lugar donde vivís? [Conexión a Internet]\"\"\n",
    "print(df_estudiantes[\"ap12d\"].unique())"
   ]
  },
  {
   "cell_type": "markdown",
   "metadata": {},
   "source": [
    "#### Conversion y limpieza de datos\n",
    "\n",
    "Mediante la observación manual de los datos, nos dimos cuenta de que el dataset no tiene de por sí variables categóricas porque todas estan mapeadas a valores enteros, sin embargo, como se verá más adelante, hay columnas del dataframe que contiene espacios y que tienen numeros y strings que representan lo mismo"
   ]
  },
  {
   "cell_type": "code",
   "execution_count": null,
   "metadata": {},
   "outputs": [],
   "source": [
    "def normalizar_categoricas(param):\n",
    "    if isinstance(param, str):\n",
    "        if param.isspace() or param == \"\":\n",
    "            return int(param.replace(\" \", \"-9\"))\n",
    "        else:\n",
    "            return int(param)\n",
    "    else:\n",
    "        return param\n",
    "\n",
    "df_estudiantes[\"ap12d\"] = df_estudiantes[\"ap12d\"].map(normalizar_categoricas)\n",
    "\n",
    "df_estudiantes[\"ap12d\"].unique()"
   ]
  },
  {
   "cell_type": "code",
   "execution_count": null,
   "metadata": {},
   "outputs": [],
   "source": [
    "fig, ax = plt.subplots(figsize=(6,6))\n",
    "\n",
    "etiquetas = {\n",
    "    1: 'Sí',\n",
    "    2: 'No'\n",
    "}\n",
    "\n",
    "conteo_valores = df_estudiantes['ap12d'].value_counts()\n",
    "conteo_valores = conteo_valores.drop(conteo_valores.index[[1, 3, 4]])\n",
    "\n",
    "print(conteo_valores)\n",
    "\n",
    "# Obtener los valores y etiquetas\n",
    "valores = conteo_valores.values\n",
    "etiquetas_pie = [etiquetas[valor] for valor in conteo_valores.index]\n",
    "\n",
    "# Crear el gráfico de pie\n",
    "plt.title(\n",
    "    'Proporción de estudiantes con acceso a internet',\n",
    "    fontdict={\"fontsize\": 16})\n",
    "handles = plt.pie(\n",
    "    valores, \n",
    "    labels=etiquetas_pie, \n",
    "    autopct='%1.1f%%', \n",
    "    startangle=90,\n",
    "    textprops={\"fontsize\": 13})\n",
    "fig.set_facecolor('white')\n",
    "\n",
    "plt.show()\n"
   ]
  },
  {
   "cell_type": "markdown",
   "metadata": {},
   "source": [
    "### 2 - Informar el porcentaje de estudiantes mayores de 13 años."
   ]
  },
  {
   "cell_type": "code",
   "execution_count": null,
   "metadata": {},
   "outputs": [],
   "source": [
    "referencias_a_años = buscar_referencias(\"años\")\n",
    "\n",
    "print(referencias_a_años)\n",
    "\n",
    "# Por lo que determinamos que la variable que analizaremos será \"ap01\": \"¿Cuántos años tenés?\"\n",
    "print(df_referencias[\"ap01\"])\n",
    "\n",
    "print(df_estudiantes[\"ap01\"].unique())"
   ]
  },
  {
   "cell_type": "code",
   "execution_count": null,
   "metadata": {},
   "outputs": [],
   "source": [
    "df_estudiantes[\"ap01\"] = df_estudiantes[\"ap01\"].map(normalizar_categoricas)\n",
    "\n",
    "df_estudiantes[\"ap01\"].unique()"
   ]
  },
  {
   "cell_type": "code",
   "execution_count": null,
   "metadata": {},
   "outputs": [],
   "source": [
    "fig, ax = plt.subplots(figsize=(6,6))\n",
    "\n",
    "etiquetas = {\n",
    "    'menor13': 'Alumnos menores de 13 años',\n",
    "    'mayor13': 'Alumnos de 13 o más años'\n",
    "}\n",
    "\n",
    "conteo_valores = df_estudiantes[\"ap01\"].value_counts().sort_index()\n",
    "\n",
    "# Obtener los valores y etiquetas\n",
    "valores = pd.Series([conteo_valores.iloc[0:6].sum(), conteo_valores.iloc[6:].sum()], index=[\"menor13\", \"mayor13\"])\n",
    "print(valores)\n",
    "etiquetas_pie = [etiquetas[valor] for valor in valores.index]\n",
    "\n",
    "plt.title(\n",
    "    'Porcentaje de estudiantes mayores de 13 años',\n",
    "    fontdict={\"fontsize\": 16})\n",
    "\n",
    "# Crear el gráfico de pie\n",
    "handles = plt.pie(\n",
    "    valores, \n",
    "    labels=etiquetas_pie, \n",
    "    autopct='%1.1f%%',\n",
    "    startangle=90,\n",
    "    textprops={\"fontsize\": 13})\n",
    "fig.set_facecolor('white')\n",
    "\n",
    "plt.show()"
   ]
  },
  {
   "cell_type": "markdown",
   "metadata": {},
   "source": [
    "### 3 -  Graficar, en un mismo plano, las proporciónes de muestras de las 10 jurisdicciones con mayor cantidad de estudiantes."
   ]
  },
  {
   "cell_type": "code",
   "execution_count": null,
   "metadata": {},
   "outputs": [],
   "source": [
    "print(df_referencias[\"jurisdiccion\"])\n",
    "\n",
    "print(df_estudiantes[\"jurisdiccion\"].unique())\n",
    "\n",
    "# Agrupar con jurisdiccion y sumar para ver si se consideran todos los valores, la suma debe dar igual a 128482\n",
    "df_estudiantes[\"jurisdiccion\"].value_counts().values.sum()"
   ]
  },
  {
   "cell_type": "code",
   "execution_count": null,
   "metadata": {},
   "outputs": [],
   "source": [
    "# Armar una Serie que contenga el valor de la provincia como key y el nombre como value\n",
    "df_jurisdiccion = df_valores_variables[df_valores_variables[\"Variable\"] == \"jurisdiccion\"]\n",
    "df_jurisdiccion_sin_columna_variable = df_jurisdiccion.drop(\"Variable\", axis=1)\n",
    "valores_etiqueta = df_jurisdiccion_sin_columna_variable.set_index(df_jurisdiccion_sin_columna_variable.columns[0]).squeeze()\n",
    "\n",
    "# Acortar nombre CABA\n",
    "valores_etiqueta[2] = \"CABA\"\n",
    "\n",
    "valores_etiqueta.values"
   ]
  },
  {
   "cell_type": "code",
   "execution_count": null,
   "metadata": {},
   "outputs": [],
   "source": [
    "# Reemplazar los valores por su correspondiente provincia\n",
    "cantidad_estudiantes_por_jurisdiccion = df_estudiantes[\"jurisdiccion\"].value_counts()\n",
    "\n",
    "cantidad_estudiantes_por_jurisdiccion.index = cantidad_estudiantes_por_jurisdiccion.index.map(valores_etiqueta)\n",
    "\n",
    "# Tomar las 10 jurisdicciones con mayor poblacion\n",
    "cantidad_estudiantes_por_jurisdiccion = cantidad_estudiantes_por_jurisdiccion.iloc[:10]\n",
    "\n",
    "cantidad_estudiantes_por_jurisdiccion\n"
   ]
  },
  {
   "cell_type": "code",
   "execution_count": null,
   "metadata": {},
   "outputs": [],
   "source": [
    "# Crear un gráfico de barras horizontales\n",
    "plt.barh(cantidad_estudiantes_por_jurisdiccion.index, cantidad_estudiantes_por_jurisdiccion.values)\n",
    "\n",
    "# Etiquetas y título\n",
    "plt.xlabel('Cantidad de Estudiantes')\n",
    "plt.ylabel('Jurisdicción')\n",
    "plt.title('Cantidad de Estudiantes por Jurisdicción')\n",
    "\n",
    "# Mostrar el gráfico\n",
    "plt.show()"
   ]
  },
  {
   "cell_type": "markdown",
   "metadata": {},
   "source": [
    "### 4 - Graficar, en un mismo plano, la proporción de muestras con residencia rural y urbana."
   ]
  },
  {
   "cell_type": "code",
   "execution_count": null,
   "metadata": {},
   "outputs": [],
   "source": [
    "# Encontrar que variable hacia referencia a si el ámbito era rural o urbano fue más dificil porque no había una relación directa\n",
    "# en el dataframe de referencia por lo que su obtención se hizo mediante la observación manual\n",
    "\n",
    "print(df_valores_variables[df_valores_variables[\"Variable\"] == \"ambito\"])\n",
    "print(df_estudiantes[\"ambito\"].unique())"
   ]
  },
  {
   "cell_type": "code",
   "execution_count": null,
   "metadata": {},
   "outputs": [],
   "source": [
    "fig, ax = plt.subplots()\n",
    "\n",
    "etiquetas = {\n",
    "    1: \"Rural\",\n",
    "    2: \"Urbano\"\n",
    "}\n",
    "\n",
    "plt.title('Proporción de estudiantes con residencia rural y urbana')\n",
    "\n",
    "conteo_valores = df_estudiantes['ambito'].value_counts()\n",
    "\n",
    "# Obtener los valores y etiquetas\n",
    "valores = conteo_valores.values\n",
    "etiquetas_pie = [etiquetas[valor] for valor in conteo_valores.index]\n",
    "\n",
    "# Crear el gráfico de pie\n",
    "handles = plt.pie(valores, labels=etiquetas_pie, autopct='%1.1f%%', startangle=90)\n",
    "fig.set_facecolor('white')\n",
    "\n",
    "# plt.legend(zip(etiquetas.values(), valores), title=\"Etiquetas y valores\", loc=\"upper right\")\n",
    "\n",
    "plt.show()"
   ]
  }
 ],
 "metadata": {
  "kernelspec": {
   "display_name": "Python 3",
   "language": "python",
   "name": "python3"
  },
  "language_info": {
   "codemirror_mode": {
    "name": "ipython",
    "version": 3
   },
   "file_extension": ".py",
   "mimetype": "text/x-python",
   "name": "python",
   "nbconvert_exporter": "python",
   "pygments_lexer": "ipython3",
   "version": "3.9.4"
  },
  "orig_nbformat": 4
 },
 "nbformat": 4,
 "nbformat_minor": 2
}
