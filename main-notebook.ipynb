{
 "cells": [
  {
   "cell_type": "code",
   "execution_count": 1,
   "metadata": {},
   "outputs": [],
   "source": [
    "import numpy as np\n",
    "import pandas as pd\n",
    "import matplotlib.pyplot as plt"
   ]
  },
  {
   "cell_type": "code",
   "execution_count": 2,
   "metadata": {},
   "outputs": [
    {
     "name": "stderr",
     "output_type": "stream",
     "text": [
      "C:\\Users\\Valen\\AppData\\Local\\Temp\\ipykernel_6044\\2321535097.py:1: DtypeWarning: Columns (6,7,8,9,10,11,12,13,14,15,16,17,18,19,20,21,22,23,24,25,26,27,28,29,30,31,32,33,34,35,36,37,38,39,40,41,42,43,44,45,46,47,48,49,50,51,52,53,54,55,56,57,58,59,60,61,62,63,64,65,66,67,68,69,70,71,72,73,74,75,76,77,78,79,80,81,82,83,84,85,86,87,88,89,90,91,92,93,94,95,96,97,98,99,100,101,111,112,113) have mixed types. Specify dtype option on import or set low_memory=False.\n",
      "  df_estudiantes = pd.read_csv(\"./archivos-bd/BaseAprenderEstudiantes6Primaria2022-MuestralLyM.csv\", sep=';')\n"
     ]
    }
   ],
   "source": [
    "df_estudiantes = pd.read_csv(\"./archivos-bd/BaseAprenderEstudiantes6Primaria2022-MuestralLyM.csv\", sep=';')\n",
    "df_referencias = pd.read_excel(\"./archivos-bd/EstudiantesAPRENDER2022PrimariaMuestral-DiccionarioDeVariables.xlsx\", sheet_name=\"etiquetas de variables\", header=1)\n",
    "df_valores_variables = pd.read_excel(\"./archivos-bd/EstudiantesAPRENDER2022PrimariaMuestral-DiccionarioDeVariables.xlsx\", sheet_name=\"valores de variables\", header=1)"
   ]
  },
  {
   "cell_type": "markdown",
   "metadata": {},
   "source": [
    "### Análisis Exploratorio de Datos"
   ]
  },
  {
   "cell_type": "code",
   "execution_count": 3,
   "metadata": {},
   "outputs": [
    {
     "name": "stdout",
     "output_type": "stream",
     "text": [
      "(128482, 117)\n",
      "(117, 2)\n",
      "(632, 3)\n"
     ]
    }
   ],
   "source": [
    "print(df_estudiantes.shape)\n",
    "print(df_referencias.shape)\n",
    "print(df_valores_variables.shape)"
   ]
  },
  {
   "cell_type": "code",
   "execution_count": 4,
   "metadata": {},
   "outputs": [
    {
     "data": {
      "text/html": [
       "<div>\n",
       "<style scoped>\n",
       "    .dataframe tbody tr th:only-of-type {\n",
       "        vertical-align: middle;\n",
       "    }\n",
       "\n",
       "    .dataframe tbody tr th {\n",
       "        vertical-align: top;\n",
       "    }\n",
       "\n",
       "    .dataframe thead th {\n",
       "        text-align: right;\n",
       "    }\n",
       "</style>\n",
       "<table border=\"1\" class=\"dataframe\">\n",
       "  <thead>\n",
       "    <tr style=\"text-align: right;\">\n",
       "      <th></th>\n",
       "      <th>jurisdiccion</th>\n",
       "      <th>ID1</th>\n",
       "      <th>seccion</th>\n",
       "      <th>idalumno</th>\n",
       "      <th>sector</th>\n",
       "      <th>ambito</th>\n",
       "      <th>ap01</th>\n",
       "      <th>ap02</th>\n",
       "      <th>ap03</th>\n",
       "      <th>ap04</th>\n",
       "      <th>...</th>\n",
       "      <th>lpuntaje</th>\n",
       "      <th>mpuntaje</th>\n",
       "      <th>NSE_puntaje</th>\n",
       "      <th>NSE_nivel</th>\n",
       "      <th>edadA_junio2022</th>\n",
       "      <th>migracion</th>\n",
       "      <th>sobreedad</th>\n",
       "      <th>Nivel_Ed_Madre</th>\n",
       "      <th>Nivel_Ed_Padre</th>\n",
       "      <th>Nivel_Ed_Persona_Resp</th>\n",
       "    </tr>\n",
       "  </thead>\n",
       "  <tbody>\n",
       "    <tr>\n",
       "      <th>0</th>\n",
       "      <td>2</td>\n",
       "      <td>396970010637139</td>\n",
       "      <td>2</td>\n",
       "      <td>22</td>\n",
       "      <td>2</td>\n",
       "      <td>2</td>\n",
       "      <td></td>\n",
       "      <td></td>\n",
       "      <td></td>\n",
       "      <td></td>\n",
       "      <td>...</td>\n",
       "      <td>497,61646</td>\n",
       "      <td>395,31659</td>\n",
       "      <td></td>\n",
       "      <td></td>\n",
       "      <td></td>\n",
       "      <td></td>\n",
       "      <td></td>\n",
       "      <td></td>\n",
       "      <td></td>\n",
       "      <td></td>\n",
       "    </tr>\n",
       "    <tr>\n",
       "      <th>1</th>\n",
       "      <td>2</td>\n",
       "      <td>396970010637139</td>\n",
       "      <td>2</td>\n",
       "      <td>18</td>\n",
       "      <td>2</td>\n",
       "      <td>2</td>\n",
       "      <td></td>\n",
       "      <td></td>\n",
       "      <td></td>\n",
       "      <td></td>\n",
       "      <td>...</td>\n",
       "      <td>440,10049</td>\n",
       "      <td>414,74878</td>\n",
       "      <td></td>\n",
       "      <td></td>\n",
       "      <td></td>\n",
       "      <td></td>\n",
       "      <td></td>\n",
       "      <td></td>\n",
       "      <td></td>\n",
       "      <td></td>\n",
       "    </tr>\n",
       "    <tr>\n",
       "      <th>2</th>\n",
       "      <td>2</td>\n",
       "      <td>396970010637139</td>\n",
       "      <td>1</td>\n",
       "      <td>18</td>\n",
       "      <td>2</td>\n",
       "      <td>2</td>\n",
       "      <td></td>\n",
       "      <td></td>\n",
       "      <td></td>\n",
       "      <td></td>\n",
       "      <td>...</td>\n",
       "      <td>608,22382</td>\n",
       "      <td>549,40967</td>\n",
       "      <td></td>\n",
       "      <td></td>\n",
       "      <td></td>\n",
       "      <td></td>\n",
       "      <td></td>\n",
       "      <td></td>\n",
       "      <td></td>\n",
       "      <td></td>\n",
       "    </tr>\n",
       "    <tr>\n",
       "      <th>3</th>\n",
       "      <td>2</td>\n",
       "      <td>971700824929717</td>\n",
       "      <td>2</td>\n",
       "      <td>10</td>\n",
       "      <td>1</td>\n",
       "      <td>2</td>\n",
       "      <td></td>\n",
       "      <td></td>\n",
       "      <td></td>\n",
       "      <td></td>\n",
       "      <td>...</td>\n",
       "      <td>582,31982</td>\n",
       "      <td>526,39301</td>\n",
       "      <td></td>\n",
       "      <td></td>\n",
       "      <td></td>\n",
       "      <td></td>\n",
       "      <td></td>\n",
       "      <td></td>\n",
       "      <td></td>\n",
       "      <td></td>\n",
       "    </tr>\n",
       "    <tr>\n",
       "      <th>4</th>\n",
       "      <td>2</td>\n",
       "      <td>971700824929717</td>\n",
       "      <td>1</td>\n",
       "      <td>23</td>\n",
       "      <td>1</td>\n",
       "      <td>2</td>\n",
       "      <td></td>\n",
       "      <td></td>\n",
       "      <td></td>\n",
       "      <td></td>\n",
       "      <td>...</td>\n",
       "      <td>381,68524</td>\n",
       "      <td>418,19516</td>\n",
       "      <td></td>\n",
       "      <td></td>\n",
       "      <td></td>\n",
       "      <td></td>\n",
       "      <td></td>\n",
       "      <td></td>\n",
       "      <td></td>\n",
       "      <td></td>\n",
       "    </tr>\n",
       "  </tbody>\n",
       "</table>\n",
       "<p>5 rows × 117 columns</p>\n",
       "</div>"
      ],
      "text/plain": [
       "   jurisdiccion              ID1  seccion  idalumno  sector  ambito ap01 ap02  \\\n",
       "0             2  396970010637139        2        22       2       2             \n",
       "1             2  396970010637139        2        18       2       2             \n",
       "2             2  396970010637139        1        18       2       2             \n",
       "3             2  971700824929717        2        10       1       2             \n",
       "4             2  971700824929717        1        23       1       2             \n",
       "\n",
       "  ap03 ap04  ...   lpuntaje   mpuntaje NSE_puntaje NSE_nivel edadA_junio2022  \\\n",
       "0            ...  497,61646  395,31659                                         \n",
       "1            ...  440,10049  414,74878                                         \n",
       "2            ...  608,22382  549,40967                                         \n",
       "3            ...  582,31982  526,39301                                         \n",
       "4            ...  381,68524  418,19516                                         \n",
       "\n",
       "  migracion sobreedad Nivel_Ed_Madre Nivel_Ed_Padre Nivel_Ed_Persona_Resp  \n",
       "0                                                                          \n",
       "1                                                                          \n",
       "2                                                                          \n",
       "3                                                                          \n",
       "4                                                                          \n",
       "\n",
       "[5 rows x 117 columns]"
      ]
     },
     "execution_count": 4,
     "metadata": {},
     "output_type": "execute_result"
    }
   ],
   "source": [
    "df_estudiantes.head()"
   ]
  },
  {
   "cell_type": "code",
   "execution_count": 5,
   "metadata": {},
   "outputs": [
    {
     "data": {
      "text/html": [
       "<div>\n",
       "<style scoped>\n",
       "    .dataframe tbody tr th:only-of-type {\n",
       "        vertical-align: middle;\n",
       "    }\n",
       "\n",
       "    .dataframe tbody tr th {\n",
       "        vertical-align: top;\n",
       "    }\n",
       "\n",
       "    .dataframe thead th {\n",
       "        text-align: right;\n",
       "    }\n",
       "</style>\n",
       "<table border=\"1\" class=\"dataframe\">\n",
       "  <thead>\n",
       "    <tr style=\"text-align: right;\">\n",
       "      <th></th>\n",
       "      <th>Variable</th>\n",
       "      <th>Etiqueta</th>\n",
       "    </tr>\n",
       "  </thead>\n",
       "  <tbody>\n",
       "    <tr>\n",
       "      <th>0</th>\n",
       "      <td>jurisdiccion</td>\n",
       "      <td>Código de Jurisdicción</td>\n",
       "    </tr>\n",
       "    <tr>\n",
       "      <th>1</th>\n",
       "      <td>ID1</td>\n",
       "      <td>ID Ficticio</td>\n",
       "    </tr>\n",
       "    <tr>\n",
       "      <th>2</th>\n",
       "      <td>idseccion</td>\n",
       "      <td>Sección</td>\n",
       "    </tr>\n",
       "    <tr>\n",
       "      <th>3</th>\n",
       "      <td>idalumno</td>\n",
       "      <td>ID alumno</td>\n",
       "    </tr>\n",
       "    <tr>\n",
       "      <th>4</th>\n",
       "      <td>ap01</td>\n",
       "      <td>¿Cuántos años tenés?</td>\n",
       "    </tr>\n",
       "  </tbody>\n",
       "</table>\n",
       "</div>"
      ],
      "text/plain": [
       "       Variable                Etiqueta\n",
       "0  jurisdiccion  Código de Jurisdicción\n",
       "1           ID1             ID Ficticio\n",
       "2     idseccion                 Sección\n",
       "3      idalumno               ID alumno\n",
       "4          ap01    ¿Cuántos años tenés?"
      ]
     },
     "execution_count": 5,
     "metadata": {},
     "output_type": "execute_result"
    }
   ],
   "source": [
    "df_referencias.head()"
   ]
  },
  {
   "cell_type": "code",
   "execution_count": 6,
   "metadata": {},
   "outputs": [
    {
     "data": {
      "text/html": [
       "<div>\n",
       "<style scoped>\n",
       "    .dataframe tbody tr th:only-of-type {\n",
       "        vertical-align: middle;\n",
       "    }\n",
       "\n",
       "    .dataframe tbody tr th {\n",
       "        vertical-align: top;\n",
       "    }\n",
       "\n",
       "    .dataframe thead th {\n",
       "        text-align: right;\n",
       "    }\n",
       "</style>\n",
       "<table border=\"1\" class=\"dataframe\">\n",
       "  <thead>\n",
       "    <tr style=\"text-align: right;\">\n",
       "      <th></th>\n",
       "      <th>Variable</th>\n",
       "      <th>Valores</th>\n",
       "      <th>Etiqueta</th>\n",
       "    </tr>\n",
       "  </thead>\n",
       "  <tbody>\n",
       "    <tr>\n",
       "      <th>0</th>\n",
       "      <td>jurisdiccion</td>\n",
       "      <td>2</td>\n",
       "      <td>Ciudad Autónoma de Buenos Aires</td>\n",
       "    </tr>\n",
       "    <tr>\n",
       "      <th>1</th>\n",
       "      <td>NaN</td>\n",
       "      <td>6</td>\n",
       "      <td>Buenos Aires</td>\n",
       "    </tr>\n",
       "    <tr>\n",
       "      <th>2</th>\n",
       "      <td>NaN</td>\n",
       "      <td>10</td>\n",
       "      <td>Catamarca</td>\n",
       "    </tr>\n",
       "    <tr>\n",
       "      <th>3</th>\n",
       "      <td>NaN</td>\n",
       "      <td>14</td>\n",
       "      <td>Córdoba</td>\n",
       "    </tr>\n",
       "    <tr>\n",
       "      <th>4</th>\n",
       "      <td>NaN</td>\n",
       "      <td>18</td>\n",
       "      <td>Corrientes</td>\n",
       "    </tr>\n",
       "    <tr>\n",
       "      <th>5</th>\n",
       "      <td>NaN</td>\n",
       "      <td>22</td>\n",
       "      <td>Chaco</td>\n",
       "    </tr>\n",
       "    <tr>\n",
       "      <th>6</th>\n",
       "      <td>NaN</td>\n",
       "      <td>26</td>\n",
       "      <td>Chubut</td>\n",
       "    </tr>\n",
       "    <tr>\n",
       "      <th>7</th>\n",
       "      <td>NaN</td>\n",
       "      <td>30</td>\n",
       "      <td>Entre Ríos</td>\n",
       "    </tr>\n",
       "    <tr>\n",
       "      <th>8</th>\n",
       "      <td>NaN</td>\n",
       "      <td>34</td>\n",
       "      <td>Formosa</td>\n",
       "    </tr>\n",
       "    <tr>\n",
       "      <th>9</th>\n",
       "      <td>NaN</td>\n",
       "      <td>38</td>\n",
       "      <td>Jujuy</td>\n",
       "    </tr>\n",
       "    <tr>\n",
       "      <th>10</th>\n",
       "      <td>NaN</td>\n",
       "      <td>42</td>\n",
       "      <td>La Pampa</td>\n",
       "    </tr>\n",
       "    <tr>\n",
       "      <th>11</th>\n",
       "      <td>NaN</td>\n",
       "      <td>46</td>\n",
       "      <td>La Rioja</td>\n",
       "    </tr>\n",
       "    <tr>\n",
       "      <th>12</th>\n",
       "      <td>NaN</td>\n",
       "      <td>50</td>\n",
       "      <td>Mendoza</td>\n",
       "    </tr>\n",
       "    <tr>\n",
       "      <th>13</th>\n",
       "      <td>NaN</td>\n",
       "      <td>54</td>\n",
       "      <td>Misiones</td>\n",
       "    </tr>\n",
       "    <tr>\n",
       "      <th>14</th>\n",
       "      <td>NaN</td>\n",
       "      <td>58</td>\n",
       "      <td>Neuquén</td>\n",
       "    </tr>\n",
       "    <tr>\n",
       "      <th>15</th>\n",
       "      <td>NaN</td>\n",
       "      <td>62</td>\n",
       "      <td>Río Negro</td>\n",
       "    </tr>\n",
       "    <tr>\n",
       "      <th>16</th>\n",
       "      <td>NaN</td>\n",
       "      <td>66</td>\n",
       "      <td>Salta</td>\n",
       "    </tr>\n",
       "    <tr>\n",
       "      <th>17</th>\n",
       "      <td>NaN</td>\n",
       "      <td>70</td>\n",
       "      <td>San Juan</td>\n",
       "    </tr>\n",
       "    <tr>\n",
       "      <th>18</th>\n",
       "      <td>NaN</td>\n",
       "      <td>74</td>\n",
       "      <td>San Luis</td>\n",
       "    </tr>\n",
       "    <tr>\n",
       "      <th>19</th>\n",
       "      <td>NaN</td>\n",
       "      <td>78</td>\n",
       "      <td>Santa Cruz</td>\n",
       "    </tr>\n",
       "    <tr>\n",
       "      <th>20</th>\n",
       "      <td>NaN</td>\n",
       "      <td>82</td>\n",
       "      <td>Santa Fe</td>\n",
       "    </tr>\n",
       "    <tr>\n",
       "      <th>21</th>\n",
       "      <td>NaN</td>\n",
       "      <td>86</td>\n",
       "      <td>Santiago del Estero</td>\n",
       "    </tr>\n",
       "    <tr>\n",
       "      <th>22</th>\n",
       "      <td>NaN</td>\n",
       "      <td>90</td>\n",
       "      <td>Tucumán</td>\n",
       "    </tr>\n",
       "    <tr>\n",
       "      <th>23</th>\n",
       "      <td>NaN</td>\n",
       "      <td>94</td>\n",
       "      <td>Tierra del Fuego, Antártida e Islas del Atlánt...</td>\n",
       "    </tr>\n",
       "    <tr>\n",
       "      <th>24</th>\n",
       "      <td>ap01</td>\n",
       "      <td>-9</td>\n",
       "      <td>Blanco</td>\n",
       "    </tr>\n",
       "    <tr>\n",
       "      <th>25</th>\n",
       "      <td>NaN</td>\n",
       "      <td>-8</td>\n",
       "      <td>No disponible</td>\n",
       "    </tr>\n",
       "    <tr>\n",
       "      <th>26</th>\n",
       "      <td>NaN</td>\n",
       "      <td>-6</td>\n",
       "      <td>Multimarca</td>\n",
       "    </tr>\n",
       "    <tr>\n",
       "      <th>27</th>\n",
       "      <td>NaN</td>\n",
       "      <td>1</td>\n",
       "      <td>10 años o menos</td>\n",
       "    </tr>\n",
       "  </tbody>\n",
       "</table>\n",
       "</div>"
      ],
      "text/plain": [
       "        Variable  Valores                                           Etiqueta\n",
       "0   jurisdiccion        2                    Ciudad Autónoma de Buenos Aires\n",
       "1            NaN        6                                       Buenos Aires\n",
       "2            NaN       10                                          Catamarca\n",
       "3            NaN       14                                            Córdoba\n",
       "4            NaN       18                                         Corrientes\n",
       "5            NaN       22                                              Chaco\n",
       "6            NaN       26                                             Chubut\n",
       "7            NaN       30                                         Entre Ríos\n",
       "8            NaN       34                                            Formosa\n",
       "9            NaN       38                                              Jujuy\n",
       "10           NaN       42                                           La Pampa\n",
       "11           NaN       46                                           La Rioja\n",
       "12           NaN       50                                            Mendoza\n",
       "13           NaN       54                                           Misiones\n",
       "14           NaN       58                                            Neuquén\n",
       "15           NaN       62                                          Río Negro\n",
       "16           NaN       66                                              Salta\n",
       "17           NaN       70                                           San Juan\n",
       "18           NaN       74                                           San Luis\n",
       "19           NaN       78                                         Santa Cruz\n",
       "20           NaN       82                                           Santa Fe\n",
       "21           NaN       86                                Santiago del Estero\n",
       "22           NaN       90                                            Tucumán\n",
       "23           NaN       94  Tierra del Fuego, Antártida e Islas del Atlánt...\n",
       "24          ap01       -9                                             Blanco\n",
       "25           NaN       -8                                      No disponible\n",
       "26           NaN       -6                                         Multimarca\n",
       "27           NaN        1                                    10 años o menos"
      ]
     },
     "execution_count": 6,
     "metadata": {},
     "output_type": "execute_result"
    }
   ],
   "source": [
    "df_valores_variables.head(28)"
   ]
  },
  {
   "cell_type": "code",
   "execution_count": 7,
   "metadata": {},
   "outputs": [],
   "source": [
    "# Transformar el dataframe de referencias a una Serie para poder buscar por el nombre de la variable más facil\n",
    "df_referencias = df_referencias.set_index(df_referencias.columns[0]).squeeze()"
   ]
  },
  {
   "cell_type": "code",
   "execution_count": 9,
   "metadata": {},
   "outputs": [
    {
     "data": {
      "text/html": [
       "<div>\n",
       "<style scoped>\n",
       "    .dataframe tbody tr th:only-of-type {\n",
       "        vertical-align: middle;\n",
       "    }\n",
       "\n",
       "    .dataframe tbody tr th {\n",
       "        vertical-align: top;\n",
       "    }\n",
       "\n",
       "    .dataframe thead th {\n",
       "        text-align: right;\n",
       "    }\n",
       "</style>\n",
       "<table border=\"1\" class=\"dataframe\">\n",
       "  <thead>\n",
       "    <tr style=\"text-align: right;\">\n",
       "      <th></th>\n",
       "      <th>Variable</th>\n",
       "      <th>Valores</th>\n",
       "      <th>Etiqueta</th>\n",
       "    </tr>\n",
       "  </thead>\n",
       "  <tbody>\n",
       "    <tr>\n",
       "      <th>0</th>\n",
       "      <td>jurisdiccion</td>\n",
       "      <td>2</td>\n",
       "      <td>Ciudad Autónoma de Buenos Aires</td>\n",
       "    </tr>\n",
       "    <tr>\n",
       "      <th>1</th>\n",
       "      <td>jurisdiccion</td>\n",
       "      <td>6</td>\n",
       "      <td>Buenos Aires</td>\n",
       "    </tr>\n",
       "    <tr>\n",
       "      <th>2</th>\n",
       "      <td>jurisdiccion</td>\n",
       "      <td>10</td>\n",
       "      <td>Catamarca</td>\n",
       "    </tr>\n",
       "    <tr>\n",
       "      <th>3</th>\n",
       "      <td>jurisdiccion</td>\n",
       "      <td>14</td>\n",
       "      <td>Córdoba</td>\n",
       "    </tr>\n",
       "    <tr>\n",
       "      <th>4</th>\n",
       "      <td>jurisdiccion</td>\n",
       "      <td>18</td>\n",
       "      <td>Corrientes</td>\n",
       "    </tr>\n",
       "    <tr>\n",
       "      <th>5</th>\n",
       "      <td>jurisdiccion</td>\n",
       "      <td>22</td>\n",
       "      <td>Chaco</td>\n",
       "    </tr>\n",
       "    <tr>\n",
       "      <th>6</th>\n",
       "      <td>jurisdiccion</td>\n",
       "      <td>26</td>\n",
       "      <td>Chubut</td>\n",
       "    </tr>\n",
       "    <tr>\n",
       "      <th>7</th>\n",
       "      <td>jurisdiccion</td>\n",
       "      <td>30</td>\n",
       "      <td>Entre Ríos</td>\n",
       "    </tr>\n",
       "    <tr>\n",
       "      <th>8</th>\n",
       "      <td>jurisdiccion</td>\n",
       "      <td>34</td>\n",
       "      <td>Formosa</td>\n",
       "    </tr>\n",
       "    <tr>\n",
       "      <th>9</th>\n",
       "      <td>jurisdiccion</td>\n",
       "      <td>38</td>\n",
       "      <td>Jujuy</td>\n",
       "    </tr>\n",
       "    <tr>\n",
       "      <th>10</th>\n",
       "      <td>jurisdiccion</td>\n",
       "      <td>42</td>\n",
       "      <td>La Pampa</td>\n",
       "    </tr>\n",
       "    <tr>\n",
       "      <th>11</th>\n",
       "      <td>jurisdiccion</td>\n",
       "      <td>46</td>\n",
       "      <td>La Rioja</td>\n",
       "    </tr>\n",
       "    <tr>\n",
       "      <th>12</th>\n",
       "      <td>jurisdiccion</td>\n",
       "      <td>50</td>\n",
       "      <td>Mendoza</td>\n",
       "    </tr>\n",
       "    <tr>\n",
       "      <th>13</th>\n",
       "      <td>jurisdiccion</td>\n",
       "      <td>54</td>\n",
       "      <td>Misiones</td>\n",
       "    </tr>\n",
       "    <tr>\n",
       "      <th>14</th>\n",
       "      <td>jurisdiccion</td>\n",
       "      <td>58</td>\n",
       "      <td>Neuquén</td>\n",
       "    </tr>\n",
       "    <tr>\n",
       "      <th>15</th>\n",
       "      <td>jurisdiccion</td>\n",
       "      <td>62</td>\n",
       "      <td>Río Negro</td>\n",
       "    </tr>\n",
       "    <tr>\n",
       "      <th>16</th>\n",
       "      <td>jurisdiccion</td>\n",
       "      <td>66</td>\n",
       "      <td>Salta</td>\n",
       "    </tr>\n",
       "    <tr>\n",
       "      <th>17</th>\n",
       "      <td>jurisdiccion</td>\n",
       "      <td>70</td>\n",
       "      <td>San Juan</td>\n",
       "    </tr>\n",
       "    <tr>\n",
       "      <th>18</th>\n",
       "      <td>jurisdiccion</td>\n",
       "      <td>74</td>\n",
       "      <td>San Luis</td>\n",
       "    </tr>\n",
       "    <tr>\n",
       "      <th>19</th>\n",
       "      <td>jurisdiccion</td>\n",
       "      <td>78</td>\n",
       "      <td>Santa Cruz</td>\n",
       "    </tr>\n",
       "    <tr>\n",
       "      <th>20</th>\n",
       "      <td>jurisdiccion</td>\n",
       "      <td>82</td>\n",
       "      <td>Santa Fe</td>\n",
       "    </tr>\n",
       "    <tr>\n",
       "      <th>21</th>\n",
       "      <td>jurisdiccion</td>\n",
       "      <td>86</td>\n",
       "      <td>Santiago del Estero</td>\n",
       "    </tr>\n",
       "    <tr>\n",
       "      <th>22</th>\n",
       "      <td>jurisdiccion</td>\n",
       "      <td>90</td>\n",
       "      <td>Tucumán</td>\n",
       "    </tr>\n",
       "    <tr>\n",
       "      <th>23</th>\n",
       "      <td>jurisdiccion</td>\n",
       "      <td>94</td>\n",
       "      <td>Tierra del Fuego, Antártida e Islas del Atlánt...</td>\n",
       "    </tr>\n",
       "    <tr>\n",
       "      <th>24</th>\n",
       "      <td>ap01</td>\n",
       "      <td>-9</td>\n",
       "      <td>Blanco</td>\n",
       "    </tr>\n",
       "    <tr>\n",
       "      <th>25</th>\n",
       "      <td>ap01</td>\n",
       "      <td>-8</td>\n",
       "      <td>No disponible</td>\n",
       "    </tr>\n",
       "    <tr>\n",
       "      <th>26</th>\n",
       "      <td>ap01</td>\n",
       "      <td>-6</td>\n",
       "      <td>Multimarca</td>\n",
       "    </tr>\n",
       "    <tr>\n",
       "      <th>27</th>\n",
       "      <td>ap01</td>\n",
       "      <td>1</td>\n",
       "      <td>10 años o menos</td>\n",
       "    </tr>\n",
       "    <tr>\n",
       "      <th>28</th>\n",
       "      <td>ap01</td>\n",
       "      <td>2</td>\n",
       "      <td>11 años</td>\n",
       "    </tr>\n",
       "    <tr>\n",
       "      <th>29</th>\n",
       "      <td>ap01</td>\n",
       "      <td>3</td>\n",
       "      <td>12 años</td>\n",
       "    </tr>\n",
       "  </tbody>\n",
       "</table>\n",
       "</div>"
      ],
      "text/plain": [
       "        Variable  Valores                                           Etiqueta\n",
       "0   jurisdiccion        2                    Ciudad Autónoma de Buenos Aires\n",
       "1   jurisdiccion        6                                       Buenos Aires\n",
       "2   jurisdiccion       10                                          Catamarca\n",
       "3   jurisdiccion       14                                            Córdoba\n",
       "4   jurisdiccion       18                                         Corrientes\n",
       "5   jurisdiccion       22                                              Chaco\n",
       "6   jurisdiccion       26                                             Chubut\n",
       "7   jurisdiccion       30                                         Entre Ríos\n",
       "8   jurisdiccion       34                                            Formosa\n",
       "9   jurisdiccion       38                                              Jujuy\n",
       "10  jurisdiccion       42                                           La Pampa\n",
       "11  jurisdiccion       46                                           La Rioja\n",
       "12  jurisdiccion       50                                            Mendoza\n",
       "13  jurisdiccion       54                                           Misiones\n",
       "14  jurisdiccion       58                                            Neuquén\n",
       "15  jurisdiccion       62                                          Río Negro\n",
       "16  jurisdiccion       66                                              Salta\n",
       "17  jurisdiccion       70                                           San Juan\n",
       "18  jurisdiccion       74                                           San Luis\n",
       "19  jurisdiccion       78                                         Santa Cruz\n",
       "20  jurisdiccion       82                                           Santa Fe\n",
       "21  jurisdiccion       86                                Santiago del Estero\n",
       "22  jurisdiccion       90                                            Tucumán\n",
       "23  jurisdiccion       94  Tierra del Fuego, Antártida e Islas del Atlánt...\n",
       "24          ap01       -9                                             Blanco\n",
       "25          ap01       -8                                      No disponible\n",
       "26          ap01       -6                                         Multimarca\n",
       "27          ap01        1                                    10 años o menos\n",
       "28          ap01        2                                            11 años\n",
       "29          ap01        3                                            12 años"
      ]
     },
     "execution_count": 9,
     "metadata": {},
     "output_type": "execute_result"
    }
   ],
   "source": [
    "# Rellenar las columnas que tienen valores NaN por la variable correspondiente\n",
    "for index, _ in enumerate(df_valores_variables[\"Variable\"]):\n",
    "    if index != 0:\n",
    "        # Si estoy en un valor NaN y el anterior tiene un valor significa que debe tener el mismo valor que el anterior\n",
    "        if pd.isnull(df_valores_variables[\"Variable\"][index]) and not pd.isnull(df_valores_variables[\"Variable\"][index-1]):\n",
    "            df_valores_variables[\"Variable\"][index] = df_valores_variables[\"Variable\"][index-1]\n",
    "\n",
    "df_valores_variables.head(30)"
   ]
  },
  {
   "cell_type": "code",
   "execution_count": 10,
   "metadata": {},
   "outputs": [
    {
     "name": "stdout",
     "output_type": "stream",
     "text": [
      "jurisdiccion             0\n",
      "ID1                      0\n",
      "seccion                  0\n",
      "idalumno                 0\n",
      "sector                   0\n",
      "                        ..\n",
      "migracion                0\n",
      "sobreedad                0\n",
      "Nivel_Ed_Madre           0\n",
      "Nivel_Ed_Padre           0\n",
      "Nivel_Ed_Persona_Resp    0\n",
      "Length: 117, dtype: int64\n",
      "[' ' '1' '-9' '8' '5' '13' '15' '2' '7' '-6' '12' '-8' '10' '4' '14' '11'\n",
      " '6' '9' '3' 1 10 7 8 -9 2 13 15 3 -6 9 12 5 14 4 -8 11 6]\n"
     ]
    }
   ],
   "source": [
    "# Recorremos las columnas para saber si hay elementos nulos en las columnas del dataframe\n",
    "\n",
    "# for column in df_estudiantes:\n",
    "#     print(\"Columna:\", column, \"\\t\\t Cantidad nulos:\", df_estudiantes[column].isnull().sum())\n",
    "print(df_estudiantes.isnull().sum()) # Trunca el resultado\n",
    "\n",
    "# Según este análisis ninguna columna tienen valores nulos pero analizando un poco mas a fondo observamos\n",
    "# que hay columnas que tienen como valor un string vacio o un espacio \" \" por lo que se debe considerar\n",
    "# como se tratarán estos caso\n",
    "print(df_estudiantes[\"ap04\"].unique())\n",
    "\n",
    "#! Se debe tener especial cuidado porque en la misma columna hay variables del tipo int y string\n",
    "#! que representan lo mismo"
   ]
  },
  {
   "cell_type": "code",
   "execution_count": 11,
   "metadata": {},
   "outputs": [],
   "source": [
    "## Definir una funcion para saber que indices nos sirven y que valor de refencia tienen\n",
    "def buscar_referencias(nombre_referencia):\n",
    "    return df_referencias[df_referencias.str.contains(nombre_referencia)]\n"
   ]
  },
  {
   "cell_type": "markdown",
   "metadata": {},
   "source": [
    "## Practica para todas las muestras"
   ]
  },
  {
   "cell_type": "markdown",
   "metadata": {},
   "source": [
    "### 1 - Graficar, en un mismo plano, la proporción de muestras con y sin acceso a internet."
   ]
  },
  {
   "cell_type": "code",
   "execution_count": 12,
   "metadata": {},
   "outputs": [
    {
     "name": "stdout",
     "output_type": "stream",
     "text": [
      "Variable\n",
      "ap12d    ¿Disponés de los siguientes objetos o servicio...\n",
      "ap16     Desde tu celular, ¿podés acceder a Internet po...\n",
      "Name: Etiqueta, dtype: object\n",
      "¿Disponés de los siguientes objetos o servicios en el lugar donde vivís? [Conexión a Internet]\n",
      "ap12d\n",
      "[' ' '1' '-9' '2' '-6' '-8' 1 2 -9 -8 -6]\n"
     ]
    }
   ],
   "source": [
    "# Para saber que variables hacen refencia a \"Internet\" utilizamos la función buscar_referencias\n",
    "referencias_a_internet = buscar_referencias(\"Internet\")\n",
    "\n",
    "print(referencias_a_internet)\n",
    "\n",
    "print(referencias_a_internet.values[0])\n",
    "print(referencias_a_internet.index[0])\n",
    "\n",
    "# Por lo que determinamos que la variable que analizaremos será \"ap12d\": \"¿Disponés de los siguientes objetos o servicios en el lugar donde vivís? [Conexión a Internet]\"\"\n",
    "print(df_estudiantes[\"ap12d\"].unique())"
   ]
  },
  {
   "cell_type": "markdown",
   "metadata": {},
   "source": [
    "#### Conversion y limpieza de datos\n",
    "\n",
    "Mediante la observación manual de los datos, nos dimos cuenta de que el dataset no tiene de por sí variables categóricas porque todas estan mapeadas a valores enteros, sin embargo, como se verá más adelante, hay columnas del dataframe que contiene espacios y que tienen numeros y strings que representan lo mismo"
   ]
  },
  {
   "cell_type": "code",
   "execution_count": 13,
   "metadata": {},
   "outputs": [
    {
     "data": {
      "text/plain": [
       "array([-9,  1,  2, -6, -8], dtype=int64)"
      ]
     },
     "execution_count": 13,
     "metadata": {},
     "output_type": "execute_result"
    }
   ],
   "source": [
    "def normalizar_categoricas(param):\n",
    "    if isinstance(param, str):\n",
    "        if param.isspace() or param == \"\":\n",
    "            return int(param.replace(\" \", \"-9\"))\n",
    "        else:\n",
    "            return int(param)\n",
    "    else:\n",
    "        return param\n",
    "\n",
    "df_estudiantes[\"ap12d\"] = df_estudiantes[\"ap12d\"].map(normalizar_categoricas)\n",
    "\n",
    "df_estudiantes[\"ap12d\"].unique()"
   ]
  },
  {
   "cell_type": "code",
   "execution_count": 14,
   "metadata": {},
   "outputs": [
    {
     "name": "stdout",
     "output_type": "stream",
     "text": [
      "ap12d\n",
      " 1    108171\n",
      "-9      9998\n",
      " 2      9731\n",
      "-8       405\n",
      "-6       177\n",
      "Name: count, dtype: int64\n"
     ]
    },
    {
     "data": {
      "image/png": "[encoded data removed]",
      "text/plain": [
       "<Figure size 640x480 with 1 Axes>"
      ]
     },
     "metadata": {},
     "output_type": "display_data"
    }
   ],
   "source": [
    "fig, ax = plt.subplots()\n",
    "\n",
    "etiquetas = {\n",
    "    -9: 'Blanco',\n",
    "    -8: 'No disponible',\n",
    "    -6: 'Multimarca',\n",
    "    1: 'Sí',\n",
    "    2: 'No'\n",
    "}\n",
    "\n",
    "plt.title('Proporción de estudiantes con acceso a internet')\n",
    "\n",
    "conteo_valores = df_estudiantes['ap12d'].value_counts()\n",
    "\n",
    "#! Ver que hacer con valores multimarca y no disponible\n",
    "print(conteo_valores)\n",
    "\n",
    "# Obtener los valores y etiquetas\n",
    "valores = conteo_valores.values\n",
    "etiquetas_pie = [etiquetas[valor] for valor in conteo_valores.index]\n",
    "\n",
    "# Crear el gráfico de pie\n",
    "handles = plt.pie(valores, labels=etiquetas_pie, autopct='%1.1f%%', startangle=90)\n",
    "\n",
    "# plt.legend(zip(etiquetas.values(), valores), title=\"Etiquetas y valores\", loc=\"upper right\")\n",
    "\n",
    "plt.show()\n"
   ]
  },
  {
   "cell_type": "markdown",
   "metadata": {},
   "source": [
    "### 2 - Informar el porcentaje de estudiantes mayores de 13 años."
   ]
  },
  {
   "cell_type": "code",
   "execution_count": 92,
   "metadata": {},
   "outputs": [
    {
     "name": "stdout",
     "output_type": "stream",
     "text": [
      "Variable\n",
      "ap01                 ¿Cuántos años tenés?\n",
      "ap02    ¿Cuál es el mes de tu cumpleaños?\n",
      "Name: Etiqueta, dtype: object\n",
      "¿Cuántos años tenés?\n",
      "[' ' '-9' '-8' '-6' '1' '2' 2 3 4 5]\n"
     ]
    }
   ],
   "source": [
    "referencias_a_años = buscar_referencias(\"años\")\n",
    "\n",
    "print(referencias_a_años)\n",
    "\n",
    "# Por lo que determinamos que la variable que analizaremos será \"ap01\": \"¿Cuántos años tenés?\"\n",
    "print(df_referencias[\"ap01\"])\n",
    "\n",
    "print(df_estudiantes[\"ap01\"].unique())"
   ]
  },
  {
   "cell_type": "code",
   "execution_count": 93,
   "metadata": {},
   "outputs": [
    {
     "data": {
      "text/plain": [
       "array([-9, -8, -6,  1,  2,  3,  4,  5], dtype=int64)"
      ]
     },
     "execution_count": 93,
     "metadata": {},
     "output_type": "execute_result"
    }
   ],
   "source": [
    "df_estudiantes[\"ap01\"] = df_estudiantes[\"ap01\"].map(normalizar_categoricas)\n",
    "\n",
    "df_estudiantes[\"ap01\"].unique()"
   ]
  },
  {
   "cell_type": "code",
   "execution_count": 94,
   "metadata": {},
   "outputs": [
    {
     "name": "stdout",
     "output_type": "stream",
     "text": [
      "ap01\n",
      "-9     6102\n",
      "-8      191\n",
      "-6      105\n",
      " 1      318\n",
      " 2    67046\n",
      " 3    51081\n",
      " 4     2944\n",
      " 5      695\n",
      "Name: count, dtype: int64\n",
      "ap01\n",
      "-9     6102\n",
      "-8      191\n",
      "-6      105\n",
      " 1      318\n",
      " 2    67046\n",
      " 3    51081\n",
      "Name: count, dtype: int64\n",
      "ap01\n",
      "4    2944\n",
      "5     695\n",
      "Name: count, dtype: int64\n",
      "menor13    124843\n",
      "mayor13      3639\n",
      "dtype: int64\n"
     ]
    },
    {
     "data": {
      "image/png": "[encoded data removed]",
      "text/plain": [
       "<Figure size 640x480 with 1 Axes>"
      ]
     },
     "metadata": {},
     "output_type": "display_data"
    }
   ],
   "source": [
    "fig, ax = plt.subplots()\n",
    "\n",
    "etiquetas = {\n",
    "    'menor13': 'Alumnos menores a 13 años',\n",
    "    'mayor13': 'Alumnos de 13 o más años'\n",
    "}\n",
    "\n",
    "plt.title('Porcentaje de estudiantes mayores de 13 años')\n",
    "\n",
    "conteo_valores = df_estudiantes[\"ap01\"].value_counts().sort_index()\n",
    "\n",
    "#! Ver que hacer con valores en blanco, multimarca y no disponible\n",
    "print(conteo_valores)\n",
    "print(conteo_valores.iloc[0:6])\n",
    "print(conteo_valores.iloc[6:])\n",
    "\n",
    "# Obtener los valores y etiquetas\n",
    "valores = pd.Series([conteo_valores.iloc[0:6].sum(), conteo_valores.iloc[6:].sum()], index=[\"menor13\", \"mayor13\"])\n",
    "print(valores)\n",
    "etiquetas_pie = [etiquetas[valor] for valor in valores.index]\n",
    "\n",
    "# Crear el gráfico de pie\n",
    "handles = plt.pie(valores, labels=etiquetas_pie, autopct='%1.1f%%', startangle=90)\n",
    "\n",
    "# plt.legend(zip(etiquetas.values(), valores), title=\"Etiquetas y valores\", loc=\"upper right\")\n",
    "\n",
    "plt.show()"
   ]
  },
  {
   "cell_type": "markdown",
   "metadata": {},
   "source": [
    "### 3 -  Graficar, en un mismo plano, las proporciónes de muestras de las 10 jurisdicciones con mayor cantidad de estudiantes."
   ]
  },
  {
   "cell_type": "code",
   "execution_count": 95,
   "metadata": {},
   "outputs": [
    {
     "name": "stdout",
     "output_type": "stream",
     "text": [
      "Código de Jurisdicción\n",
      "[ 2  6 10 14 18 22 26 30 34 38 42 46 50 54 58 62 66 70 74 78 82 86 90 94]\n"
     ]
    },
    {
     "data": {
      "text/plain": [
       "128482"
      ]
     },
     "execution_count": 95,
     "metadata": {},
     "output_type": "execute_result"
    }
   ],
   "source": [
    "print(df_referencias[\"jurisdiccion\"])\n",
    "\n",
    "print(df_estudiantes[\"jurisdiccion\"].unique())\n",
    "\n",
    "# Agrupar con jurisdiccion y sumar para ver si se consideran todos los valores, la suma debe dar igual a 128482\n",
    "df_estudiantes[\"jurisdiccion\"].value_counts().values.sum()"
   ]
  },
  {
   "cell_type": "code",
   "execution_count": 96,
   "metadata": {},
   "outputs": [
    {
     "data": {
      "text/plain": [
       "array(['Ciudad Autónoma de Buenos Aires', 'Buenos Aires', 'Catamarca',\n",
       "       'Córdoba', 'Corrientes', 'Chaco', 'Chubut', 'Entre Ríos',\n",
       "       'Formosa', 'Jujuy', 'La Pampa', 'La Rioja', 'Mendoza', 'Misiones',\n",
       "       'Neuquén', 'Río Negro', 'Salta', 'San Juan', 'San Luis',\n",
       "       'Santa Cruz', 'Santa Fe', 'Santiago del Estero', 'Tucumán',\n",
       "       'Tierra del Fuego, Antártida e Islas del Atlántico Sur'],\n",
       "      dtype=object)"
      ]
     },
     "execution_count": 96,
     "metadata": {},
     "output_type": "execute_result"
    }
   ],
   "source": [
    "# Armar una Serie que contenga el valor de la provincia como key y el nombre como value\n",
    "df_jurisdiccion = df_valores_variables[df_valores_variables[\"Variable\"] == \"jurisdiccion\"]\n",
    "df_jurisdiccion_sin_columna_variable = df_jurisdiccion.drop(\"Variable\", axis=1)\n",
    "valores_etiqueta = df_jurisdiccion_sin_columna_variable.set_index(df_jurisdiccion_sin_columna_variable.columns[0]).squeeze()\n",
    "\n",
    "valores_etiqueta.values"
   ]
  },
  {
   "cell_type": "code",
   "execution_count": 97,
   "metadata": {},
   "outputs": [
    {
     "data": {
      "text/plain": [
       "jurisdiccion\n",
       "Buenos Aires                                             22535\n",
       "Córdoba                                                   7467\n",
       "Santa Fe                                                  7382\n",
       "Mendoza                                                   6370\n",
       "Ciudad Autónoma de Buenos Aires                           5767\n",
       "Tucumán                                                   5696\n",
       "Jujuy                                                     5594\n",
       "Santiago del Estero                                       5376\n",
       "San Juan                                                  5172\n",
       "Salta                                                     5034\n",
       "Chubut                                                    4888\n",
       "Corrientes                                                4670\n",
       "Formosa                                                   4315\n",
       "La Pampa                                                  4154\n",
       "Catamarca                                                 4146\n",
       "Chaco                                                     4133\n",
       "La Rioja                                                  4069\n",
       "Santa Cruz                                                3964\n",
       "Río Negro                                                 3602\n",
       "Misiones                                                  3584\n",
       "San Luis                                                  3475\n",
       "Entre Ríos                                                3353\n",
       "Neuquén                                                   1877\n",
       "Tierra del Fuego, Antártida e Islas del Atlántico Sur     1859\n",
       "Name: count, dtype: int64"
      ]
     },
     "execution_count": 97,
     "metadata": {},
     "output_type": "execute_result"
    }
   ],
   "source": [
    "# Reemplazar los valores por su correspondiente provincia\n",
    "cantidad_estudiantes_por_jurisdiccion = df_estudiantes[\"jurisdiccion\"].value_counts()\n",
    "\n",
    "cantidad_estudiantes_por_jurisdiccion.index = cantidad_estudiantes_por_jurisdiccion.index.map(valores_etiqueta)\n",
    "\n",
    "cantidad_estudiantes_por_jurisdiccion\n"
   ]
  },
  {
   "cell_type": "code",
   "execution_count": 98,
   "metadata": {},
   "outputs": [
    {
     "data": {
      "image/png": "[encoded data removed]",
      "text/plain": [
       "<Figure size 640x480 with 1 Axes>"
      ]
     },
     "metadata": {},
     "output_type": "display_data"
    }
   ],
   "source": [
    "# Crear un gráfico de barras horizontales\n",
    "plt.barh(cantidad_estudiantes_por_jurisdiccion.index, cantidad_estudiantes_por_jurisdiccion.values)\n",
    "\n",
    "# Etiquetas y título\n",
    "plt.xlabel('Cantidad de Estudiantes')\n",
    "plt.ylabel('Jurisdicción')\n",
    "plt.title('Cantidad de Estudiantes por Jurisdicción')\n",
    "\n",
    "# Mostrar el gráfico\n",
    "plt.show()"
   ]
  },
  {
   "cell_type": "markdown",
   "metadata": {},
   "source": [
    "### 4 - Graficar, en un mismo plano, la proporción de muestras con residencia rural y urbana."
   ]
  },
  {
   "cell_type": "code",
   "execution_count": 118,
   "metadata": {},
   "outputs": [
    {
     "name": "stdout",
     "output_type": "stream",
     "text": [
      "    Variable  Valores Etiqueta\n",
      "583   ambito        1    Rural\n",
      "584   ambito        2   Urbano\n",
      "[2 1]\n"
     ]
    }
   ],
   "source": [
    "# Encontrar que variable hacia referencia a si el ámbito era rural o urbano fue más dificil porque no había una relación directa\n",
    "# en el dataframe de referencia por lo que su obtención se hizo mediante la observación manual\n",
    "\n",
    "print(df_valores_variables[df_valores_variables[\"Variable\"] == \"ambito\"])\n",
    "print(df_estudiantes[\"ambito\"].unique())"
   ]
  },
  {
   "cell_type": "code",
   "execution_count": 119,
   "metadata": {},
   "outputs": [
    {
     "data": {
      "image/png": "[encoded data removed]",
      "text/plain": [
       "<Figure size 640x480 with 1 Axes>"
      ]
     },
     "metadata": {},
     "output_type": "display_data"
    }
   ],
   "source": [
    "fig, ax = plt.subplots()\n",
    "\n",
    "etiquetas = {\n",
    "    1: \"Rural\",\n",
    "    2: \"Urbano\"\n",
    "}\n",
    "\n",
    "plt.title('Proporción de estudiantes con residencia rural y urbana')\n",
    "\n",
    "conteo_valores = df_estudiantes['ambito'].value_counts()\n",
    "\n",
    "# Obtener los valores y etiquetas\n",
    "valores = conteo_valores.values\n",
    "etiquetas_pie = [etiquetas[valor] for valor in conteo_valores.index]\n",
    "\n",
    "# Crear el gráfico de pie\n",
    "handles = plt.pie(valores, labels=etiquetas_pie, autopct='%1.1f%%', startangle=90)\n",
    "\n",
    "# plt.legend(zip(etiquetas.values(), valores), title=\"Etiquetas y valores\", loc=\"upper right\")\n",
    "\n",
    "plt.show()"
   ]
  }
 ],
 "metadata": {
  "kernelspec": {
   "display_name": "Python 3",
   "language": "python",
   "name": "python3"
  },
  "language_info": {
   "codemirror_mode": {
    "name": "ipython",
    "version": 3
   },
   "file_extension": ".py",
   "mimetype": "text/x-python",
   "name": "python",
   "nbconvert_exporter": "python",
   "pygments_lexer": "ipython3",
   "version": "3.11.5"
  },
  "orig_nbformat": 4
 },
 "nbformat": 4,
 "nbformat_minor": 2
}
